{
 "cells": [
  {
   "cell_type": "code",
   "execution_count": 2,
   "metadata": {},
   "outputs": [],
   "source": [
    "import torchaudio as ta\n",
    "import pytorch_lightning as pl\n",
    "import torchaudio.transforms as T\n",
    "import numpy as np\n",
    "import random\n",
    "import torch\n",
    "import sys\n",
    "import torch.nn.functional as F\n",
    "from utils import *\n",
    "from torch.utils.data import Dataset\n",
    "from torch.utils.data import DataLoader\n",
    "from IPython.display import Audio, display\n",
    "from dataset import HighTargetDataset\n",
    "from tqdm import tqdm\n",
    "\n"
   ]
  },
  {
   "cell_type": "code",
   "execution_count": 18,
   "metadata": {},
   "outputs": [
    {
     "name": "stdout",
     "output_type": "stream",
     "text": [
      "val: GT 3358 / Target 3358 / LR 3358 file numbers loaded!\n"
     ]
    },
    {
     "name": "stderr",
     "output_type": "stream",
     "text": [
      " 63%|██████▎   | 2111/3358 [01:14<00:38, 32.78it/s]"
     ]
    }
   ],
   "source": [
    "\"\"\" Inference LSD, LSDH, STOI \"\"\"\n",
    "val_path_gt = \"/ssd2/woongzip/Datasets/VCTK_0.92_crop/16k/test\"\n",
    "val_path_target = \"/ssd2/woongzip/Datasets/VCTK_0.92_crop/16k_recon/test\"\n",
    "val_path_lr = \"/ssd2/woongzip/Datasets/VCTK_0.92_crop/MP3_sr16_8kbps/test\"\n",
    "\n",
    "################ Load Dataset\n",
    "valid_dataset = HighTargetDataset(val_path_gt, val_path_target, val_path_lr, mode='val')\n",
    "\n",
    "valid_dataloader = DataLoader(valid_dataset, batch_size = 1, shuffle=False,\n",
    "                                        num_workers=4, prefetch_factor=2, persistent_workers=True)\n",
    "lsd_scores = []\n",
    "lsd_high_scores = []\n",
    "stoi_scores = []\n",
    "device = 'cuda'\n",
    "\n",
    "bar = tqdm(valid_dataloader)\n",
    "with torch.no_grad():\n",
    "    for gt, target, lr, name in bar:\n",
    "        lr = lr.to(device)\n",
    "        gt = gt.to(device)\n",
    "        \n",
    "        lr_np = lr.cpu().numpy()\n",
    "        gt_np = gt.cpu().numpy()\n",
    "\n",
    "        # break\n",
    "\n",
    "        # STOI 계산\n",
    "        stoi_score = py_stoi(gt_np.squeeze(), lr_np.squeeze(), sample_rate=16000)\n",
    "        stoi_scores.append(stoi_score)\n",
    "\n",
    "        # LSD 계산\n",
    "        lsd_score = lsd_batch(gt_np, lr_np, fs=16000, frame_size=0.02, frame_shift=0.02, start=0, cutoff_freq=8000)\n",
    "        lsd_scores.append(lsd_score)\n",
    "        \n",
    "        # LSD High 계산\n",
    "        lsd_high_score = lsd_batch(gt_np, lr_np, fs=16000, frame_size=0.02, frame_shift=0.02, start=3000, cutoff_freq=8000)\n",
    "        lsd_high_scores.append(lsd_high_score)\n",
    "\n",
    "# 평균 점수 계산 및 출력\n",
    "avg_lsd = np.mean(lsd_scores)\n",
    "avg_lsd_high = np.mean(lsd_high_scores)\n",
    "avg_stoi = np.mean(stoi_scores)\n",
    "\n",
    "print(f'Average LSD: {avg_lsd:.3f}, Average LSD(high): {avg_lsd_high:.3f}, Average STOI: {avg_stoi:.3f}')\n"
   ]
  }
 ],
 "metadata": {
  "kernelspec": {
   "display_name": "env2",
   "language": "python",
   "name": "python3"
  },
  "language_info": {
   "codemirror_mode": {
    "name": "ipython",
    "version": 3
   },
   "file_extension": ".py",
   "mimetype": "text/x-python",
   "name": "python",
   "nbconvert_exporter": "python",
   "pygments_lexer": "ipython3",
   "version": "3.8.10"
  }
 },
 "nbformat": 4,
 "nbformat_minor": 2
}
